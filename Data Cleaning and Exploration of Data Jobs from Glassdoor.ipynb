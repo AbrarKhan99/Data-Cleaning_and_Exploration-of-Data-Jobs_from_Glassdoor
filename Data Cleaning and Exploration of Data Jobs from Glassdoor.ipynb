{
 "cells": [
  {
   "cell_type": "code",
   "execution_count": 1,
   "id": "96a05935",
   "metadata": {},
   "outputs": [],
   "source": [
    "# Importing all the required libraries.\n",
    "\n",
    "import numpy as np\n",
    "import pandas as pd\n",
    "import seaborn as sns\n",
    "import matplotlib.pyplot as plt"
   ]
  },
  {
   "cell_type": "code",
   "execution_count": 2,
   "id": "aff0f700",
   "metadata": {},
   "outputs": [],
   "source": [
    "# Importing the csv data in python using the read_csv function.\n",
    "\n",
    "df = pd.read_csv(r'D:\\Data Analytics Projects\\Exploratory Data Analysis\\Glassdoor\\Uncleaned_Glassdoor_Data_jobs.csv')"
   ]
  },
  {
   "cell_type": "code",
   "execution_count": 3,
   "id": "7ed3f7d4",
   "metadata": {},
   "outputs": [],
   "source": [
    "pd.set_option('display.max_columns',50)"
   ]
  },
  {
   "cell_type": "code",
   "execution_count": 4,
   "id": "1de4b902",
   "metadata": {
    "scrolled": true
   },
   "outputs": [
    {
     "data": {
      "text/html": [
       "<div>\n",
       "<style scoped>\n",
       "    .dataframe tbody tr th:only-of-type {\n",
       "        vertical-align: middle;\n",
       "    }\n",
       "\n",
       "    .dataframe tbody tr th {\n",
       "        vertical-align: top;\n",
       "    }\n",
       "\n",
       "    .dataframe thead th {\n",
       "        text-align: right;\n",
       "    }\n",
       "</style>\n",
       "<table border=\"1\" class=\"dataframe\">\n",
       "  <thead>\n",
       "    <tr style=\"text-align: right;\">\n",
       "      <th></th>\n",
       "      <th>index</th>\n",
       "      <th>Job Title</th>\n",
       "      <th>Salary Estimate</th>\n",
       "      <th>Job Description</th>\n",
       "      <th>Rating</th>\n",
       "      <th>Company Name</th>\n",
       "      <th>Location</th>\n",
       "      <th>Headquarters</th>\n",
       "      <th>Size</th>\n",
       "      <th>Founded</th>\n",
       "      <th>Type of ownership</th>\n",
       "      <th>Industry</th>\n",
       "      <th>Sector</th>\n",
       "      <th>Revenue</th>\n",
       "      <th>Competitors</th>\n",
       "    </tr>\n",
       "  </thead>\n",
       "  <tbody>\n",
       "    <tr>\n",
       "      <th>0</th>\n",
       "      <td>0</td>\n",
       "      <td>Sr Data Scientist</td>\n",
       "      <td>$137K-$171K (Glassdoor est.)</td>\n",
       "      <td>Description\\n\\nThe Senior Data Scientist is re...</td>\n",
       "      <td>3.1</td>\n",
       "      <td>Healthfirst\\n3.1</td>\n",
       "      <td>New York, NY</td>\n",
       "      <td>New York, NY</td>\n",
       "      <td>1001 to 5000 employees</td>\n",
       "      <td>1993</td>\n",
       "      <td>Nonprofit Organization</td>\n",
       "      <td>Insurance Carriers</td>\n",
       "      <td>Insurance</td>\n",
       "      <td>Unknown / Non-Applicable</td>\n",
       "      <td>EmblemHealth, UnitedHealth Group, Aetna</td>\n",
       "    </tr>\n",
       "    <tr>\n",
       "      <th>1</th>\n",
       "      <td>1</td>\n",
       "      <td>Data Scientist</td>\n",
       "      <td>$137K-$171K (Glassdoor est.)</td>\n",
       "      <td>Secure our Nation, Ignite your Future\\n\\nJoin ...</td>\n",
       "      <td>4.2</td>\n",
       "      <td>ManTech\\n4.2</td>\n",
       "      <td>Chantilly, VA</td>\n",
       "      <td>Herndon, VA</td>\n",
       "      <td>5001 to 10000 employees</td>\n",
       "      <td>1968</td>\n",
       "      <td>Company - Public</td>\n",
       "      <td>Research &amp; Development</td>\n",
       "      <td>Business Services</td>\n",
       "      <td>$1 to $2 billion (USD)</td>\n",
       "      <td>-1</td>\n",
       "    </tr>\n",
       "    <tr>\n",
       "      <th>2</th>\n",
       "      <td>2</td>\n",
       "      <td>Data Scientist</td>\n",
       "      <td>$137K-$171K (Glassdoor est.)</td>\n",
       "      <td>Overview\\n\\n\\nAnalysis Group is one of the lar...</td>\n",
       "      <td>3.8</td>\n",
       "      <td>Analysis Group\\n3.8</td>\n",
       "      <td>Boston, MA</td>\n",
       "      <td>Boston, MA</td>\n",
       "      <td>1001 to 5000 employees</td>\n",
       "      <td>1981</td>\n",
       "      <td>Private Practice / Firm</td>\n",
       "      <td>Consulting</td>\n",
       "      <td>Business Services</td>\n",
       "      <td>$100 to $500 million (USD)</td>\n",
       "      <td>-1</td>\n",
       "    </tr>\n",
       "    <tr>\n",
       "      <th>3</th>\n",
       "      <td>3</td>\n",
       "      <td>Data Scientist</td>\n",
       "      <td>$137K-$171K (Glassdoor est.)</td>\n",
       "      <td>JOB DESCRIPTION:\\n\\nDo you have a passion for ...</td>\n",
       "      <td>3.5</td>\n",
       "      <td>INFICON\\n3.5</td>\n",
       "      <td>Newton, MA</td>\n",
       "      <td>Bad Ragaz, Switzerland</td>\n",
       "      <td>501 to 1000 employees</td>\n",
       "      <td>2000</td>\n",
       "      <td>Company - Public</td>\n",
       "      <td>Electrical &amp; Electronic Manufacturing</td>\n",
       "      <td>Manufacturing</td>\n",
       "      <td>$100 to $500 million (USD)</td>\n",
       "      <td>MKS Instruments, Pfeiffer Vacuum, Agilent Tech...</td>\n",
       "    </tr>\n",
       "    <tr>\n",
       "      <th>4</th>\n",
       "      <td>4</td>\n",
       "      <td>Data Scientist</td>\n",
       "      <td>$137K-$171K (Glassdoor est.)</td>\n",
       "      <td>Data Scientist\\nAffinity Solutions / Marketing...</td>\n",
       "      <td>2.9</td>\n",
       "      <td>Affinity Solutions\\n2.9</td>\n",
       "      <td>New York, NY</td>\n",
       "      <td>New York, NY</td>\n",
       "      <td>51 to 200 employees</td>\n",
       "      <td>1998</td>\n",
       "      <td>Company - Private</td>\n",
       "      <td>Advertising &amp; Marketing</td>\n",
       "      <td>Business Services</td>\n",
       "      <td>Unknown / Non-Applicable</td>\n",
       "      <td>Commerce Signals, Cardlytics, Yodlee</td>\n",
       "    </tr>\n",
       "  </tbody>\n",
       "</table>\n",
       "</div>"
      ],
      "text/plain": [
       "   index          Job Title               Salary Estimate  \\\n",
       "0      0  Sr Data Scientist  $137K-$171K (Glassdoor est.)   \n",
       "1      1     Data Scientist  $137K-$171K (Glassdoor est.)   \n",
       "2      2     Data Scientist  $137K-$171K (Glassdoor est.)   \n",
       "3      3     Data Scientist  $137K-$171K (Glassdoor est.)   \n",
       "4      4     Data Scientist  $137K-$171K (Glassdoor est.)   \n",
       "\n",
       "                                     Job Description  Rating  \\\n",
       "0  Description\\n\\nThe Senior Data Scientist is re...     3.1   \n",
       "1  Secure our Nation, Ignite your Future\\n\\nJoin ...     4.2   \n",
       "2  Overview\\n\\n\\nAnalysis Group is one of the lar...     3.8   \n",
       "3  JOB DESCRIPTION:\\n\\nDo you have a passion for ...     3.5   \n",
       "4  Data Scientist\\nAffinity Solutions / Marketing...     2.9   \n",
       "\n",
       "              Company Name       Location            Headquarters  \\\n",
       "0         Healthfirst\\n3.1   New York, NY            New York, NY   \n",
       "1             ManTech\\n4.2  Chantilly, VA             Herndon, VA   \n",
       "2      Analysis Group\\n3.8     Boston, MA              Boston, MA   \n",
       "3             INFICON\\n3.5     Newton, MA  Bad Ragaz, Switzerland   \n",
       "4  Affinity Solutions\\n2.9   New York, NY            New York, NY   \n",
       "\n",
       "                      Size  Founded        Type of ownership  \\\n",
       "0   1001 to 5000 employees     1993   Nonprofit Organization   \n",
       "1  5001 to 10000 employees     1968         Company - Public   \n",
       "2   1001 to 5000 employees     1981  Private Practice / Firm   \n",
       "3    501 to 1000 employees     2000         Company - Public   \n",
       "4      51 to 200 employees     1998        Company - Private   \n",
       "\n",
       "                                Industry             Sector  \\\n",
       "0                     Insurance Carriers          Insurance   \n",
       "1                 Research & Development  Business Services   \n",
       "2                             Consulting  Business Services   \n",
       "3  Electrical & Electronic Manufacturing      Manufacturing   \n",
       "4                Advertising & Marketing  Business Services   \n",
       "\n",
       "                      Revenue  \\\n",
       "0    Unknown / Non-Applicable   \n",
       "1      $1 to $2 billion (USD)   \n",
       "2  $100 to $500 million (USD)   \n",
       "3  $100 to $500 million (USD)   \n",
       "4    Unknown / Non-Applicable   \n",
       "\n",
       "                                         Competitors  \n",
       "0            EmblemHealth, UnitedHealth Group, Aetna  \n",
       "1                                                 -1  \n",
       "2                                                 -1  \n",
       "3  MKS Instruments, Pfeiffer Vacuum, Agilent Tech...  \n",
       "4               Commerce Signals, Cardlytics, Yodlee  "
      ]
     },
     "execution_count": 4,
     "metadata": {},
     "output_type": "execute_result"
    }
   ],
   "source": [
    "df.head()"
   ]
  },
  {
   "cell_type": "code",
   "execution_count": 5,
   "id": "9e48879b",
   "metadata": {
    "scrolled": true
   },
   "outputs": [
    {
     "data": {
      "text/html": [
       "<div>\n",
       "<style scoped>\n",
       "    .dataframe tbody tr th:only-of-type {\n",
       "        vertical-align: middle;\n",
       "    }\n",
       "\n",
       "    .dataframe tbody tr th {\n",
       "        vertical-align: top;\n",
       "    }\n",
       "\n",
       "    .dataframe thead th {\n",
       "        text-align: right;\n",
       "    }\n",
       "</style>\n",
       "<table border=\"1\" class=\"dataframe\">\n",
       "  <thead>\n",
       "    <tr style=\"text-align: right;\">\n",
       "      <th></th>\n",
       "      <th>index</th>\n",
       "      <th>Job Title</th>\n",
       "      <th>Salary Estimate</th>\n",
       "      <th>Job Description</th>\n",
       "      <th>Rating</th>\n",
       "      <th>Company Name</th>\n",
       "      <th>Location</th>\n",
       "      <th>Headquarters</th>\n",
       "      <th>Size</th>\n",
       "      <th>Founded</th>\n",
       "      <th>Type of ownership</th>\n",
       "      <th>Industry</th>\n",
       "      <th>Sector</th>\n",
       "      <th>Revenue</th>\n",
       "      <th>Competitors</th>\n",
       "    </tr>\n",
       "  </thead>\n",
       "  <tbody>\n",
       "    <tr>\n",
       "      <th>667</th>\n",
       "      <td>667</td>\n",
       "      <td>Data Scientist</td>\n",
       "      <td>$105K-$167K (Glassdoor est.)</td>\n",
       "      <td>Summary\\n\\nWe’re looking for a data scientist ...</td>\n",
       "      <td>3.6</td>\n",
       "      <td>TRANZACT\\n3.6</td>\n",
       "      <td>Fort Lee, NJ</td>\n",
       "      <td>Fort Lee, NJ</td>\n",
       "      <td>1001 to 5000 employees</td>\n",
       "      <td>1989</td>\n",
       "      <td>Company - Private</td>\n",
       "      <td>Advertising &amp; Marketing</td>\n",
       "      <td>Business Services</td>\n",
       "      <td>Unknown / Non-Applicable</td>\n",
       "      <td>-1</td>\n",
       "    </tr>\n",
       "    <tr>\n",
       "      <th>668</th>\n",
       "      <td>668</td>\n",
       "      <td>Data Scientist</td>\n",
       "      <td>$105K-$167K (Glassdoor est.)</td>\n",
       "      <td>Job Description\\nBecome a thought leader withi...</td>\n",
       "      <td>-1.0</td>\n",
       "      <td>JKGT</td>\n",
       "      <td>San Francisco, CA</td>\n",
       "      <td>-1</td>\n",
       "      <td>-1</td>\n",
       "      <td>-1</td>\n",
       "      <td>-1</td>\n",
       "      <td>-1</td>\n",
       "      <td>-1</td>\n",
       "      <td>-1</td>\n",
       "      <td>-1</td>\n",
       "    </tr>\n",
       "    <tr>\n",
       "      <th>669</th>\n",
       "      <td>669</td>\n",
       "      <td>Data Scientist</td>\n",
       "      <td>$105K-$167K (Glassdoor est.)</td>\n",
       "      <td>Join a thriving company that is changing the w...</td>\n",
       "      <td>-1.0</td>\n",
       "      <td>AccessHope</td>\n",
       "      <td>Irwindale, CA</td>\n",
       "      <td>-1</td>\n",
       "      <td>-1</td>\n",
       "      <td>-1</td>\n",
       "      <td>-1</td>\n",
       "      <td>-1</td>\n",
       "      <td>-1</td>\n",
       "      <td>-1</td>\n",
       "      <td>-1</td>\n",
       "    </tr>\n",
       "    <tr>\n",
       "      <th>670</th>\n",
       "      <td>670</td>\n",
       "      <td>Data Scientist</td>\n",
       "      <td>$105K-$167K (Glassdoor est.)</td>\n",
       "      <td>100 Remote Opportunity As an AINLP Data Scient...</td>\n",
       "      <td>5.0</td>\n",
       "      <td>ChaTeck Incorporated\\n5.0</td>\n",
       "      <td>San Francisco, CA</td>\n",
       "      <td>Santa Clara, CA</td>\n",
       "      <td>1 to 50 employees</td>\n",
       "      <td>-1</td>\n",
       "      <td>Company - Private</td>\n",
       "      <td>Advertising &amp; Marketing</td>\n",
       "      <td>Business Services</td>\n",
       "      <td>$1 to $5 million (USD)</td>\n",
       "      <td>-1</td>\n",
       "    </tr>\n",
       "    <tr>\n",
       "      <th>671</th>\n",
       "      <td>671</td>\n",
       "      <td>Data Scientist</td>\n",
       "      <td>$105K-$167K (Glassdoor est.)</td>\n",
       "      <td>Description\\n\\nThe Data Scientist will be part...</td>\n",
       "      <td>2.7</td>\n",
       "      <td>1-800-Flowers\\n2.7</td>\n",
       "      <td>New York, NY</td>\n",
       "      <td>Carle Place, NY</td>\n",
       "      <td>1001 to 5000 employees</td>\n",
       "      <td>1976</td>\n",
       "      <td>Company - Public</td>\n",
       "      <td>Wholesale</td>\n",
       "      <td>Business Services</td>\n",
       "      <td>$1 to $2 billion (USD)</td>\n",
       "      <td>-1</td>\n",
       "    </tr>\n",
       "  </tbody>\n",
       "</table>\n",
       "</div>"
      ],
      "text/plain": [
       "     index       Job Title               Salary Estimate  \\\n",
       "667    667  Data Scientist  $105K-$167K (Glassdoor est.)   \n",
       "668    668  Data Scientist  $105K-$167K (Glassdoor est.)   \n",
       "669    669  Data Scientist  $105K-$167K (Glassdoor est.)   \n",
       "670    670  Data Scientist  $105K-$167K (Glassdoor est.)   \n",
       "671    671  Data Scientist  $105K-$167K (Glassdoor est.)   \n",
       "\n",
       "                                       Job Description  Rating  \\\n",
       "667  Summary\\n\\nWe’re looking for a data scientist ...     3.6   \n",
       "668  Job Description\\nBecome a thought leader withi...    -1.0   \n",
       "669  Join a thriving company that is changing the w...    -1.0   \n",
       "670  100 Remote Opportunity As an AINLP Data Scient...     5.0   \n",
       "671  Description\\n\\nThe Data Scientist will be part...     2.7   \n",
       "\n",
       "                  Company Name           Location     Headquarters  \\\n",
       "667              TRANZACT\\n3.6       Fort Lee, NJ     Fort Lee, NJ   \n",
       "668                       JKGT  San Francisco, CA               -1   \n",
       "669                 AccessHope      Irwindale, CA               -1   \n",
       "670  ChaTeck Incorporated\\n5.0  San Francisco, CA  Santa Clara, CA   \n",
       "671         1-800-Flowers\\n2.7       New York, NY  Carle Place, NY   \n",
       "\n",
       "                       Size  Founded  Type of ownership  \\\n",
       "667  1001 to 5000 employees     1989  Company - Private   \n",
       "668                      -1       -1                 -1   \n",
       "669                      -1       -1                 -1   \n",
       "670       1 to 50 employees       -1  Company - Private   \n",
       "671  1001 to 5000 employees     1976   Company - Public   \n",
       "\n",
       "                    Industry             Sector                   Revenue  \\\n",
       "667  Advertising & Marketing  Business Services  Unknown / Non-Applicable   \n",
       "668                       -1                 -1                        -1   \n",
       "669                       -1                 -1                        -1   \n",
       "670  Advertising & Marketing  Business Services    $1 to $5 million (USD)   \n",
       "671                Wholesale  Business Services    $1 to $2 billion (USD)   \n",
       "\n",
       "    Competitors  \n",
       "667          -1  \n",
       "668          -1  \n",
       "669          -1  \n",
       "670          -1  \n",
       "671          -1  "
      ]
     },
     "execution_count": 5,
     "metadata": {},
     "output_type": "execute_result"
    }
   ],
   "source": [
    "df.tail()"
   ]
  },
  {
   "cell_type": "code",
   "execution_count": 6,
   "id": "d29f54dd",
   "metadata": {
    "scrolled": true
   },
   "outputs": [
    {
     "data": {
      "text/html": [
       "<div>\n",
       "<style scoped>\n",
       "    .dataframe tbody tr th:only-of-type {\n",
       "        vertical-align: middle;\n",
       "    }\n",
       "\n",
       "    .dataframe tbody tr th {\n",
       "        vertical-align: top;\n",
       "    }\n",
       "\n",
       "    .dataframe thead th {\n",
       "        text-align: right;\n",
       "    }\n",
       "</style>\n",
       "<table border=\"1\" class=\"dataframe\">\n",
       "  <thead>\n",
       "    <tr style=\"text-align: right;\">\n",
       "      <th></th>\n",
       "      <th>Job Title</th>\n",
       "      <th>Salary Estimate</th>\n",
       "      <th>Job Description</th>\n",
       "      <th>Rating</th>\n",
       "      <th>Company Name</th>\n",
       "      <th>Location</th>\n",
       "      <th>Headquarters</th>\n",
       "      <th>Size</th>\n",
       "      <th>Founded</th>\n",
       "      <th>Type of ownership</th>\n",
       "      <th>Industry</th>\n",
       "      <th>Sector</th>\n",
       "      <th>Revenue</th>\n",
       "      <th>Competitors</th>\n",
       "    </tr>\n",
       "  </thead>\n",
       "  <tbody>\n",
       "    <tr>\n",
       "      <th>0</th>\n",
       "      <td>Sr Data Scientist</td>\n",
       "      <td>$137K-$171K (Glassdoor est.)</td>\n",
       "      <td>Description\\n\\nThe Senior Data Scientist is re...</td>\n",
       "      <td>3.1</td>\n",
       "      <td>Healthfirst\\n3.1</td>\n",
       "      <td>New York, NY</td>\n",
       "      <td>New York, NY</td>\n",
       "      <td>1001 to 5000 employees</td>\n",
       "      <td>1993</td>\n",
       "      <td>Nonprofit Organization</td>\n",
       "      <td>Insurance Carriers</td>\n",
       "      <td>Insurance</td>\n",
       "      <td>Unknown / Non-Applicable</td>\n",
       "      <td>EmblemHealth, UnitedHealth Group, Aetna</td>\n",
       "    </tr>\n",
       "    <tr>\n",
       "      <th>1</th>\n",
       "      <td>Data Scientist</td>\n",
       "      <td>$137K-$171K (Glassdoor est.)</td>\n",
       "      <td>Secure our Nation, Ignite your Future\\n\\nJoin ...</td>\n",
       "      <td>4.2</td>\n",
       "      <td>ManTech\\n4.2</td>\n",
       "      <td>Chantilly, VA</td>\n",
       "      <td>Herndon, VA</td>\n",
       "      <td>5001 to 10000 employees</td>\n",
       "      <td>1968</td>\n",
       "      <td>Company - Public</td>\n",
       "      <td>Research &amp; Development</td>\n",
       "      <td>Business Services</td>\n",
       "      <td>$1 to $2 billion (USD)</td>\n",
       "      <td>-1</td>\n",
       "    </tr>\n",
       "    <tr>\n",
       "      <th>2</th>\n",
       "      <td>Data Scientist</td>\n",
       "      <td>$137K-$171K (Glassdoor est.)</td>\n",
       "      <td>Overview\\n\\n\\nAnalysis Group is one of the lar...</td>\n",
       "      <td>3.8</td>\n",
       "      <td>Analysis Group\\n3.8</td>\n",
       "      <td>Boston, MA</td>\n",
       "      <td>Boston, MA</td>\n",
       "      <td>1001 to 5000 employees</td>\n",
       "      <td>1981</td>\n",
       "      <td>Private Practice / Firm</td>\n",
       "      <td>Consulting</td>\n",
       "      <td>Business Services</td>\n",
       "      <td>$100 to $500 million (USD)</td>\n",
       "      <td>-1</td>\n",
       "    </tr>\n",
       "    <tr>\n",
       "      <th>3</th>\n",
       "      <td>Data Scientist</td>\n",
       "      <td>$137K-$171K (Glassdoor est.)</td>\n",
       "      <td>JOB DESCRIPTION:\\n\\nDo you have a passion for ...</td>\n",
       "      <td>3.5</td>\n",
       "      <td>INFICON\\n3.5</td>\n",
       "      <td>Newton, MA</td>\n",
       "      <td>Bad Ragaz, Switzerland</td>\n",
       "      <td>501 to 1000 employees</td>\n",
       "      <td>2000</td>\n",
       "      <td>Company - Public</td>\n",
       "      <td>Electrical &amp; Electronic Manufacturing</td>\n",
       "      <td>Manufacturing</td>\n",
       "      <td>$100 to $500 million (USD)</td>\n",
       "      <td>MKS Instruments, Pfeiffer Vacuum, Agilent Tech...</td>\n",
       "    </tr>\n",
       "    <tr>\n",
       "      <th>4</th>\n",
       "      <td>Data Scientist</td>\n",
       "      <td>$137K-$171K (Glassdoor est.)</td>\n",
       "      <td>Data Scientist\\nAffinity Solutions / Marketing...</td>\n",
       "      <td>2.9</td>\n",
       "      <td>Affinity Solutions\\n2.9</td>\n",
       "      <td>New York, NY</td>\n",
       "      <td>New York, NY</td>\n",
       "      <td>51 to 200 employees</td>\n",
       "      <td>1998</td>\n",
       "      <td>Company - Private</td>\n",
       "      <td>Advertising &amp; Marketing</td>\n",
       "      <td>Business Services</td>\n",
       "      <td>Unknown / Non-Applicable</td>\n",
       "      <td>Commerce Signals, Cardlytics, Yodlee</td>\n",
       "    </tr>\n",
       "  </tbody>\n",
       "</table>\n",
       "</div>"
      ],
      "text/plain": [
       "           Job Title               Salary Estimate  \\\n",
       "0  Sr Data Scientist  $137K-$171K (Glassdoor est.)   \n",
       "1     Data Scientist  $137K-$171K (Glassdoor est.)   \n",
       "2     Data Scientist  $137K-$171K (Glassdoor est.)   \n",
       "3     Data Scientist  $137K-$171K (Glassdoor est.)   \n",
       "4     Data Scientist  $137K-$171K (Glassdoor est.)   \n",
       "\n",
       "                                     Job Description  Rating  \\\n",
       "0  Description\\n\\nThe Senior Data Scientist is re...     3.1   \n",
       "1  Secure our Nation, Ignite your Future\\n\\nJoin ...     4.2   \n",
       "2  Overview\\n\\n\\nAnalysis Group is one of the lar...     3.8   \n",
       "3  JOB DESCRIPTION:\\n\\nDo you have a passion for ...     3.5   \n",
       "4  Data Scientist\\nAffinity Solutions / Marketing...     2.9   \n",
       "\n",
       "              Company Name       Location            Headquarters  \\\n",
       "0         Healthfirst\\n3.1   New York, NY            New York, NY   \n",
       "1             ManTech\\n4.2  Chantilly, VA             Herndon, VA   \n",
       "2      Analysis Group\\n3.8     Boston, MA              Boston, MA   \n",
       "3             INFICON\\n3.5     Newton, MA  Bad Ragaz, Switzerland   \n",
       "4  Affinity Solutions\\n2.9   New York, NY            New York, NY   \n",
       "\n",
       "                      Size  Founded        Type of ownership  \\\n",
       "0   1001 to 5000 employees     1993   Nonprofit Organization   \n",
       "1  5001 to 10000 employees     1968         Company - Public   \n",
       "2   1001 to 5000 employees     1981  Private Practice / Firm   \n",
       "3    501 to 1000 employees     2000         Company - Public   \n",
       "4      51 to 200 employees     1998        Company - Private   \n",
       "\n",
       "                                Industry             Sector  \\\n",
       "0                     Insurance Carriers          Insurance   \n",
       "1                 Research & Development  Business Services   \n",
       "2                             Consulting  Business Services   \n",
       "3  Electrical & Electronic Manufacturing      Manufacturing   \n",
       "4                Advertising & Marketing  Business Services   \n",
       "\n",
       "                      Revenue  \\\n",
       "0    Unknown / Non-Applicable   \n",
       "1      $1 to $2 billion (USD)   \n",
       "2  $100 to $500 million (USD)   \n",
       "3  $100 to $500 million (USD)   \n",
       "4    Unknown / Non-Applicable   \n",
       "\n",
       "                                         Competitors  \n",
       "0            EmblemHealth, UnitedHealth Group, Aetna  \n",
       "1                                                 -1  \n",
       "2                                                 -1  \n",
       "3  MKS Instruments, Pfeiffer Vacuum, Agilent Tech...  \n",
       "4               Commerce Signals, Cardlytics, Yodlee  "
      ]
     },
     "execution_count": 6,
     "metadata": {},
     "output_type": "execute_result"
    }
   ],
   "source": [
    "# Removing the unwanted columns from the dataframe.\n",
    "\n",
    "df = df.iloc[:,1:]\n",
    "\n",
    "df.head()"
   ]
  },
  {
   "cell_type": "code",
   "execution_count": 7,
   "id": "ad744992",
   "metadata": {
    "scrolled": true
   },
   "outputs": [
    {
     "data": {
      "text/plain": [
       "(672, 14)"
      ]
     },
     "execution_count": 7,
     "metadata": {},
     "output_type": "execute_result"
    }
   ],
   "source": [
    "df.shape"
   ]
  },
  {
   "cell_type": "code",
   "execution_count": 8,
   "id": "fb0fa0eb",
   "metadata": {
    "scrolled": true
   },
   "outputs": [
    {
     "name": "stdout",
     "output_type": "stream",
     "text": [
      "<class 'pandas.core.frame.DataFrame'>\n",
      "RangeIndex: 672 entries, 0 to 671\n",
      "Data columns (total 14 columns):\n",
      " #   Column             Non-Null Count  Dtype  \n",
      "---  ------             --------------  -----  \n",
      " 0   Job Title          672 non-null    object \n",
      " 1   Salary Estimate    672 non-null    object \n",
      " 2   Job Description    672 non-null    object \n",
      " 3   Rating             672 non-null    float64\n",
      " 4   Company Name       672 non-null    object \n",
      " 5   Location           672 non-null    object \n",
      " 6   Headquarters       672 non-null    object \n",
      " 7   Size               672 non-null    object \n",
      " 8   Founded            672 non-null    int64  \n",
      " 9   Type of ownership  672 non-null    object \n",
      " 10  Industry           672 non-null    object \n",
      " 11  Sector             672 non-null    object \n",
      " 12  Revenue            672 non-null    object \n",
      " 13  Competitors        672 non-null    object \n",
      "dtypes: float64(1), int64(1), object(12)\n",
      "memory usage: 73.6+ KB\n"
     ]
    }
   ],
   "source": [
    "# Using the info method to understand the number of non null rows in each series in the dataframe \n",
    "# and what are all the datatypes the series contains.\n",
    "\n",
    "df.info()"
   ]
  },
  {
   "cell_type": "code",
   "execution_count": 9,
   "id": "e1345829",
   "metadata": {
    "scrolled": false
   },
   "outputs": [
    {
     "data": {
      "text/html": [
       "<div>\n",
       "<style scoped>\n",
       "    .dataframe tbody tr th:only-of-type {\n",
       "        vertical-align: middle;\n",
       "    }\n",
       "\n",
       "    .dataframe tbody tr th {\n",
       "        vertical-align: top;\n",
       "    }\n",
       "\n",
       "    .dataframe thead th {\n",
       "        text-align: right;\n",
       "    }\n",
       "</style>\n",
       "<table border=\"1\" class=\"dataframe\">\n",
       "  <thead>\n",
       "    <tr style=\"text-align: right;\">\n",
       "      <th></th>\n",
       "      <th>Rating</th>\n",
       "      <th>Founded</th>\n",
       "    </tr>\n",
       "  </thead>\n",
       "  <tbody>\n",
       "    <tr>\n",
       "      <th>count</th>\n",
       "      <td>672.000000</td>\n",
       "      <td>672.000000</td>\n",
       "    </tr>\n",
       "    <tr>\n",
       "      <th>mean</th>\n",
       "      <td>3.518601</td>\n",
       "      <td>1635.529762</td>\n",
       "    </tr>\n",
       "    <tr>\n",
       "      <th>std</th>\n",
       "      <td>1.410329</td>\n",
       "      <td>756.746640</td>\n",
       "    </tr>\n",
       "    <tr>\n",
       "      <th>min</th>\n",
       "      <td>-1.000000</td>\n",
       "      <td>-1.000000</td>\n",
       "    </tr>\n",
       "    <tr>\n",
       "      <th>25%</th>\n",
       "      <td>3.300000</td>\n",
       "      <td>1917.750000</td>\n",
       "    </tr>\n",
       "    <tr>\n",
       "      <th>50%</th>\n",
       "      <td>3.800000</td>\n",
       "      <td>1995.000000</td>\n",
       "    </tr>\n",
       "    <tr>\n",
       "      <th>75%</th>\n",
       "      <td>4.300000</td>\n",
       "      <td>2009.000000</td>\n",
       "    </tr>\n",
       "    <tr>\n",
       "      <th>max</th>\n",
       "      <td>5.000000</td>\n",
       "      <td>2019.000000</td>\n",
       "    </tr>\n",
       "  </tbody>\n",
       "</table>\n",
       "</div>"
      ],
      "text/plain": [
       "           Rating      Founded\n",
       "count  672.000000   672.000000\n",
       "mean     3.518601  1635.529762\n",
       "std      1.410329   756.746640\n",
       "min     -1.000000    -1.000000\n",
       "25%      3.300000  1917.750000\n",
       "50%      3.800000  1995.000000\n",
       "75%      4.300000  2009.000000\n",
       "max      5.000000  2019.000000"
      ]
     },
     "execution_count": 9,
     "metadata": {},
     "output_type": "execute_result"
    }
   ],
   "source": [
    "# Using the describe method to get the descriptive statistics of the series that contain numeric data.\n",
    "\n",
    "df.describe()"
   ]
  },
  {
   "cell_type": "markdown",
   "id": "9f87dbcb",
   "metadata": {},
   "source": [
    "# Data Cleaning:"
   ]
  },
  {
   "cell_type": "markdown",
   "id": "c4249e23",
   "metadata": {},
   "source": [
    "## Dealing with duplicates:"
   ]
  },
  {
   "cell_type": "code",
   "execution_count": 10,
   "id": "72b84f5d",
   "metadata": {
    "scrolled": true
   },
   "outputs": [
    {
     "data": {
      "text/html": [
       "<div>\n",
       "<style scoped>\n",
       "    .dataframe tbody tr th:only-of-type {\n",
       "        vertical-align: middle;\n",
       "    }\n",
       "\n",
       "    .dataframe tbody tr th {\n",
       "        vertical-align: top;\n",
       "    }\n",
       "\n",
       "    .dataframe thead th {\n",
       "        text-align: right;\n",
       "    }\n",
       "</style>\n",
       "<table border=\"1\" class=\"dataframe\">\n",
       "  <thead>\n",
       "    <tr style=\"text-align: right;\">\n",
       "      <th></th>\n",
       "      <th>Job Title</th>\n",
       "      <th>Salary Estimate</th>\n",
       "      <th>Job Description</th>\n",
       "      <th>Rating</th>\n",
       "      <th>Company Name</th>\n",
       "      <th>Location</th>\n",
       "      <th>Headquarters</th>\n",
       "      <th>Size</th>\n",
       "      <th>Founded</th>\n",
       "      <th>Type of ownership</th>\n",
       "      <th>Industry</th>\n",
       "      <th>Sector</th>\n",
       "      <th>Revenue</th>\n",
       "      <th>Competitors</th>\n",
       "    </tr>\n",
       "  </thead>\n",
       "  <tbody>\n",
       "    <tr>\n",
       "      <th>0</th>\n",
       "      <td>Sr Data Scientist</td>\n",
       "      <td>$137K-$171K (Glassdoor est.)</td>\n",
       "      <td>Description\\n\\nThe Senior Data Scientist is re...</td>\n",
       "      <td>3.1</td>\n",
       "      <td>Healthfirst\\n3.1</td>\n",
       "      <td>New York, NY</td>\n",
       "      <td>New York, NY</td>\n",
       "      <td>1001 to 5000 employees</td>\n",
       "      <td>1993</td>\n",
       "      <td>Nonprofit Organization</td>\n",
       "      <td>Insurance Carriers</td>\n",
       "      <td>Insurance</td>\n",
       "      <td>Unknown / Non-Applicable</td>\n",
       "      <td>EmblemHealth, UnitedHealth Group, Aetna</td>\n",
       "    </tr>\n",
       "    <tr>\n",
       "      <th>1</th>\n",
       "      <td>Data Scientist</td>\n",
       "      <td>$137K-$171K (Glassdoor est.)</td>\n",
       "      <td>Secure our Nation, Ignite your Future\\n\\nJoin ...</td>\n",
       "      <td>4.2</td>\n",
       "      <td>ManTech\\n4.2</td>\n",
       "      <td>Chantilly, VA</td>\n",
       "      <td>Herndon, VA</td>\n",
       "      <td>5001 to 10000 employees</td>\n",
       "      <td>1968</td>\n",
       "      <td>Company - Public</td>\n",
       "      <td>Research &amp; Development</td>\n",
       "      <td>Business Services</td>\n",
       "      <td>$1 to $2 billion (USD)</td>\n",
       "      <td>-1</td>\n",
       "    </tr>\n",
       "    <tr>\n",
       "      <th>2</th>\n",
       "      <td>Data Scientist</td>\n",
       "      <td>$137K-$171K (Glassdoor est.)</td>\n",
       "      <td>Overview\\n\\n\\nAnalysis Group is one of the lar...</td>\n",
       "      <td>3.8</td>\n",
       "      <td>Analysis Group\\n3.8</td>\n",
       "      <td>Boston, MA</td>\n",
       "      <td>Boston, MA</td>\n",
       "      <td>1001 to 5000 employees</td>\n",
       "      <td>1981</td>\n",
       "      <td>Private Practice / Firm</td>\n",
       "      <td>Consulting</td>\n",
       "      <td>Business Services</td>\n",
       "      <td>$100 to $500 million (USD)</td>\n",
       "      <td>-1</td>\n",
       "    </tr>\n",
       "    <tr>\n",
       "      <th>3</th>\n",
       "      <td>Data Scientist</td>\n",
       "      <td>$137K-$171K (Glassdoor est.)</td>\n",
       "      <td>JOB DESCRIPTION:\\n\\nDo you have a passion for ...</td>\n",
       "      <td>3.5</td>\n",
       "      <td>INFICON\\n3.5</td>\n",
       "      <td>Newton, MA</td>\n",
       "      <td>Bad Ragaz, Switzerland</td>\n",
       "      <td>501 to 1000 employees</td>\n",
       "      <td>2000</td>\n",
       "      <td>Company - Public</td>\n",
       "      <td>Electrical &amp; Electronic Manufacturing</td>\n",
       "      <td>Manufacturing</td>\n",
       "      <td>$100 to $500 million (USD)</td>\n",
       "      <td>MKS Instruments, Pfeiffer Vacuum, Agilent Tech...</td>\n",
       "    </tr>\n",
       "    <tr>\n",
       "      <th>4</th>\n",
       "      <td>Data Scientist</td>\n",
       "      <td>$137K-$171K (Glassdoor est.)</td>\n",
       "      <td>Data Scientist\\nAffinity Solutions / Marketing...</td>\n",
       "      <td>2.9</td>\n",
       "      <td>Affinity Solutions\\n2.9</td>\n",
       "      <td>New York, NY</td>\n",
       "      <td>New York, NY</td>\n",
       "      <td>51 to 200 employees</td>\n",
       "      <td>1998</td>\n",
       "      <td>Company - Private</td>\n",
       "      <td>Advertising &amp; Marketing</td>\n",
       "      <td>Business Services</td>\n",
       "      <td>Unknown / Non-Applicable</td>\n",
       "      <td>Commerce Signals, Cardlytics, Yodlee</td>\n",
       "    </tr>\n",
       "  </tbody>\n",
       "</table>\n",
       "</div>"
      ],
      "text/plain": [
       "           Job Title               Salary Estimate  \\\n",
       "0  Sr Data Scientist  $137K-$171K (Glassdoor est.)   \n",
       "1     Data Scientist  $137K-$171K (Glassdoor est.)   \n",
       "2     Data Scientist  $137K-$171K (Glassdoor est.)   \n",
       "3     Data Scientist  $137K-$171K (Glassdoor est.)   \n",
       "4     Data Scientist  $137K-$171K (Glassdoor est.)   \n",
       "\n",
       "                                     Job Description  Rating  \\\n",
       "0  Description\\n\\nThe Senior Data Scientist is re...     3.1   \n",
       "1  Secure our Nation, Ignite your Future\\n\\nJoin ...     4.2   \n",
       "2  Overview\\n\\n\\nAnalysis Group is one of the lar...     3.8   \n",
       "3  JOB DESCRIPTION:\\n\\nDo you have a passion for ...     3.5   \n",
       "4  Data Scientist\\nAffinity Solutions / Marketing...     2.9   \n",
       "\n",
       "              Company Name       Location            Headquarters  \\\n",
       "0         Healthfirst\\n3.1   New York, NY            New York, NY   \n",
       "1             ManTech\\n4.2  Chantilly, VA             Herndon, VA   \n",
       "2      Analysis Group\\n3.8     Boston, MA              Boston, MA   \n",
       "3             INFICON\\n3.5     Newton, MA  Bad Ragaz, Switzerland   \n",
       "4  Affinity Solutions\\n2.9   New York, NY            New York, NY   \n",
       "\n",
       "                      Size  Founded        Type of ownership  \\\n",
       "0   1001 to 5000 employees     1993   Nonprofit Organization   \n",
       "1  5001 to 10000 employees     1968         Company - Public   \n",
       "2   1001 to 5000 employees     1981  Private Practice / Firm   \n",
       "3    501 to 1000 employees     2000         Company - Public   \n",
       "4      51 to 200 employees     1998        Company - Private   \n",
       "\n",
       "                                Industry             Sector  \\\n",
       "0                     Insurance Carriers          Insurance   \n",
       "1                 Research & Development  Business Services   \n",
       "2                             Consulting  Business Services   \n",
       "3  Electrical & Electronic Manufacturing      Manufacturing   \n",
       "4                Advertising & Marketing  Business Services   \n",
       "\n",
       "                      Revenue  \\\n",
       "0    Unknown / Non-Applicable   \n",
       "1      $1 to $2 billion (USD)   \n",
       "2  $100 to $500 million (USD)   \n",
       "3  $100 to $500 million (USD)   \n",
       "4    Unknown / Non-Applicable   \n",
       "\n",
       "                                         Competitors  \n",
       "0            EmblemHealth, UnitedHealth Group, Aetna  \n",
       "1                                                 -1  \n",
       "2                                                 -1  \n",
       "3  MKS Instruments, Pfeiffer Vacuum, Agilent Tech...  \n",
       "4               Commerce Signals, Cardlytics, Yodlee  "
      ]
     },
     "execution_count": 10,
     "metadata": {},
     "output_type": "execute_result"
    }
   ],
   "source": [
    "# Using the duplicated method to check duplicate rows in the dataframe.\n",
    "\n",
    "df[df.duplicated()].sort_values(by = ['Job Title','Company Name','Salary Estimate'], ascending = True)\n",
    "\n",
    "df.head()"
   ]
  },
  {
   "cell_type": "code",
   "execution_count": 11,
   "id": "7bcf2625",
   "metadata": {},
   "outputs": [],
   "source": [
    "# Keeping the first original row and removing the rest of the rows by using drop_duplicated method.\n",
    "\n",
    "df = df.drop_duplicates(keep='first')"
   ]
  },
  {
   "cell_type": "code",
   "execution_count": 12,
   "id": "12c5f7c0",
   "metadata": {
    "scrolled": false
   },
   "outputs": [
    {
     "name": "stdout",
     "output_type": "stream",
     "text": [
      "Total rows after removing duplicates - 659\n"
     ]
    }
   ],
   "source": [
    "print('Total rows after removing duplicates' + ' - ' + str(len(df)))"
   ]
  },
  {
   "cell_type": "markdown",
   "id": "f4e5c722",
   "metadata": {},
   "source": [
    "## Salary Parsing:"
   ]
  },
  {
   "cell_type": "code",
   "execution_count": 13,
   "id": "961d8b14",
   "metadata": {},
   "outputs": [
    {
     "data": {
      "text/plain": [
       "array(['$137K-$171K (Glassdoor est.)', '$75K-$131K (Glassdoor est.)',\n",
       "       '$79K-$131K (Glassdoor est.)', '$99K-$132K (Glassdoor est.)',\n",
       "       '$90K-$109K (Glassdoor est.)', '$101K-$165K (Glassdoor est.)',\n",
       "       '$56K-$97K (Glassdoor est.)', '$79K-$106K (Glassdoor est.)',\n",
       "       '$71K-$123K (Glassdoor est.)', '$90K-$124K (Glassdoor est.)',\n",
       "       '$91K-$150K (Glassdoor est.)', '$141K-$225K (Glassdoor est.)',\n",
       "       '$145K-$225K(Employer est.)', '$79K-$147K (Glassdoor est.)',\n",
       "       '$122K-$146K (Glassdoor est.)', '$112K-$116K (Glassdoor est.)',\n",
       "       '$110K-$163K (Glassdoor est.)', '$124K-$198K (Glassdoor est.)',\n",
       "       '$79K-$133K (Glassdoor est.)', '$69K-$116K (Glassdoor est.)',\n",
       "       '$31K-$56K (Glassdoor est.)', '$95K-$119K (Glassdoor est.)',\n",
       "       '$212K-$331K (Glassdoor est.)', '$66K-$112K (Glassdoor est.)',\n",
       "       '$128K-$201K (Glassdoor est.)', '$138K-$158K (Glassdoor est.)',\n",
       "       '$80K-$132K (Glassdoor est.)', '$87K-$141K (Glassdoor est.)',\n",
       "       '$92K-$155K (Glassdoor est.)', '$105K-$167K (Glassdoor est.)'],\n",
       "      dtype=object)"
      ]
     },
     "execution_count": 13,
     "metadata": {},
     "output_type": "execute_result"
    }
   ],
   "source": [
    "df['Salary Estimate'].unique()"
   ]
  },
  {
   "cell_type": "code",
   "execution_count": 14,
   "id": "7d927688",
   "metadata": {
    "scrolled": true
   },
   "outputs": [],
   "source": [
    "# Removing the extraneous characters from the series that contains Salary data and creating a new series named Salary Range.\n",
    "\n",
    "df['Salary Range'] = df['Salary Estimate'].str.replace(r'\\(Glassdoor est.\\)|\\(Employer est.\\)', '', regex = True).str.strip()"
   ]
  },
  {
   "cell_type": "code",
   "execution_count": 15,
   "id": "d41d0362",
   "metadata": {
    "scrolled": true
   },
   "outputs": [
    {
     "data": {
      "text/plain": [
       "array(['$137K-$171K', '$75K-$131K', '$79K-$131K', '$99K-$132K',\n",
       "       '$90K-$109K', '$101K-$165K', '$56K-$97K', '$79K-$106K',\n",
       "       '$71K-$123K', '$90K-$124K', '$91K-$150K', '$141K-$225K',\n",
       "       '$145K-$225K', '$79K-$147K', '$122K-$146K', '$112K-$116K',\n",
       "       '$110K-$163K', '$124K-$198K', '$79K-$133K', '$69K-$116K',\n",
       "       '$31K-$56K', '$95K-$119K', '$212K-$331K', '$66K-$112K',\n",
       "       '$128K-$201K', '$138K-$158K', '$80K-$132K', '$87K-$141K',\n",
       "       '$92K-$155K', '$105K-$167K'], dtype=object)"
      ]
     },
     "execution_count": 15,
     "metadata": {},
     "output_type": "execute_result"
    }
   ],
   "source": [
    "df['Salary Range'].unique()"
   ]
  },
  {
   "cell_type": "markdown",
   "id": "77525b9e",
   "metadata": {},
   "source": [
    "## Rating Parsing:"
   ]
  },
  {
   "cell_type": "code",
   "execution_count": 16,
   "id": "5e552589",
   "metadata": {},
   "outputs": [
    {
     "data": {
      "text/plain": [
       "39"
      ]
     },
     "execution_count": 16,
     "metadata": {},
     "output_type": "execute_result"
    }
   ],
   "source": [
    "# Changing the -1.0 value in the rating column to 0.\n",
    "\n",
    "df['Rating'] = df['Rating'].replace(-1.0, 0)\n",
    "\n",
    "len(df[df['Rating'] == 0])"
   ]
  },
  {
   "cell_type": "code",
   "execution_count": 17,
   "id": "6b63d0aa",
   "metadata": {
    "scrolled": true
   },
   "outputs": [
    {
     "data": {
      "text/plain": [
       "array([3.1, 4.2, 3.8, 3.5, 2.9, 3.9, 4.4, 3.6, 4.5, 4.7, 3.7, 3.4, 4.1,\n",
       "       3.2, 4.3, 2.8, 5. , 4.8, 3.3, 2.7, 2.2, 2.6, 4. , 2.5, 4.9, 2.4,\n",
       "       0. , 2.3, 4.6, 3. , 2.1, 2. ])"
      ]
     },
     "execution_count": 17,
     "metadata": {},
     "output_type": "execute_result"
    }
   ],
   "source": [
    "df['Rating'].unique()"
   ]
  },
  {
   "cell_type": "markdown",
   "id": "5026599b",
   "metadata": {},
   "source": [
    "## Company Name Parsing:"
   ]
  },
  {
   "cell_type": "code",
   "execution_count": 18,
   "id": "64beec9f",
   "metadata": {},
   "outputs": [],
   "source": [
    "# Removing the extraneous characters from the series that contains Company Name data.\n",
    "\n",
    "df['Company Name'] = df['Company Name'].str.replace(r'\\n\\d+(\\.\\d+)?', '', regex=True)"
   ]
  },
  {
   "cell_type": "code",
   "execution_count": 19,
   "id": "ad066050",
   "metadata": {
    "scrolled": true
   },
   "outputs": [
    {
     "data": {
      "text/plain": [
       "0           Healthfirst\n",
       "1               ManTech\n",
       "2        Analysis Group\n",
       "3               INFICON\n",
       "4    Affinity Solutions\n",
       "Name: Company Name, dtype: object"
      ]
     },
     "execution_count": 19,
     "metadata": {},
     "output_type": "execute_result"
    }
   ],
   "source": [
    "df['Company Name'].head()"
   ]
  },
  {
   "cell_type": "code",
   "execution_count": 20,
   "id": "911b8feb",
   "metadata": {
    "scrolled": false
   },
   "outputs": [
    {
     "data": {
      "text/plain": [
       "667                TRANZACT\n",
       "668                    JKGT\n",
       "669              AccessHope\n",
       "670    ChaTeck Incorporated\n",
       "671           1-800-Flowers\n",
       "Name: Company Name, dtype: object"
      ]
     },
     "execution_count": 20,
     "metadata": {},
     "output_type": "execute_result"
    }
   ],
   "source": [
    "df['Company Name'].tail()"
   ]
  },
  {
   "cell_type": "markdown",
   "id": "cc9ed0d9",
   "metadata": {},
   "source": [
    "## Location Parsing:"
   ]
  },
  {
   "cell_type": "code",
   "execution_count": 21,
   "id": "1f56afb9",
   "metadata": {
    "scrolled": true
   },
   "outputs": [
    {
     "data": {
      "text/plain": [
       "0     New York, NY\n",
       "1    Chantilly, VA\n",
       "2       Boston, MA\n",
       "3       Newton, MA\n",
       "4     New York, NY\n",
       "Name: Location, dtype: object"
      ]
     },
     "execution_count": 21,
     "metadata": {},
     "output_type": "execute_result"
    }
   ],
   "source": [
    "df['Location'].head()"
   ]
  },
  {
   "cell_type": "code",
   "execution_count": 22,
   "id": "75d1b4d0",
   "metadata": {},
   "outputs": [
    {
     "data": {
      "text/plain": [
       "['New York', ' NY']"
      ]
     },
     "execution_count": 22,
     "metadata": {},
     "output_type": "execute_result"
    }
   ],
   "source": [
    "df['Location'][0].split(',')"
   ]
  },
  {
   "cell_type": "code",
   "execution_count": 23,
   "id": "b8932b0b",
   "metadata": {},
   "outputs": [],
   "source": [
    "# Creating a custom function to create city and state series.\n",
    "\n",
    "def location_parsing(location):\n",
    "    location = location.split(',')\n",
    "    if len(location) >= 2:\n",
    "        City = location[0].strip()\n",
    "        State = location[1].strip()\n",
    "        return City, State\n",
    "    else:\n",
    "        return None, None\n",
    "\n",
    "df[['City', 'State']] = df['Location'].apply(location_parsing).apply(pd.Series)"
   ]
  },
  {
   "cell_type": "code",
   "execution_count": 24,
   "id": "f540fb33",
   "metadata": {
    "scrolled": false
   },
   "outputs": [
    {
     "data": {
      "text/plain": [
       "United States    11\n",
       "Remote            5\n",
       "Utah              2\n",
       "New Jersey        2\n",
       "Texas             1\n",
       "California        1\n",
       "Name: Location, dtype: int64"
      ]
     },
     "execution_count": 24,
     "metadata": {},
     "output_type": "execute_result"
    }
   ],
   "source": [
    "# Checking for null values in the city and state series.\n",
    "\n",
    "df[(df['City'].isnull()) & (df['State'].isnull())]['Location'].value_counts()"
   ]
  },
  {
   "cell_type": "code",
   "execution_count": 25,
   "id": "60b15dfa",
   "metadata": {},
   "outputs": [],
   "source": [
    "# Replacing the null values with relevant city and state names.\n",
    "\n",
    "df.loc[df['Location'].str.contains('Remote', case=False, na=False), ['City', 'State']] = 'Remote'\n",
    "\n",
    "df.loc[df['Location'].str.contains('United States', case = False, na = False),['City','State']] = ['United States','US']\n",
    "\n",
    "df.loc[df['Location'].str.contains('Utah', case = False, na = False),['City','State']] = ['Utah','UT']\n",
    "\n",
    "df.loc[df['Location'].str.contains('New Jersey', case = False, na = False),['City','State']] = ['New Jersey','NJ']\n",
    "\n",
    "df.loc[df['Location'].str.contains('Texas', case = False, na = False),['City','State']] = ['Texas','TX']\n",
    "\n",
    "df.loc[df['Location'].str.contains('California', case = False, na = False),['City','State']] = ['California','CA']\n",
    "\n",
    "df.loc[df['Location'].str.contains('Patuxent, Anne Arundel, MD', case = False, na = False),['City','State']] = ['Anne Arundel','MD']"
   ]
  },
  {
   "cell_type": "code",
   "execution_count": 26,
   "id": "8e9491f3",
   "metadata": {
    "scrolled": true
   },
   "outputs": [
    {
     "data": {
      "text/plain": [
       "array(['NY', 'VA', 'MA', 'nd', 'CA', 'IL', 'MO', 'WA', 'NJ', 'DC', 'TN',\n",
       "       'AZ', 'PA', 'GA', 'FL', 'WI', 'NE', 're', 'an', 'LA', 'OH', 'IN',\n",
       "       'MD', 'CT', 'om', 'MN', 'TX', 'UT', 'CO', 'OR', 'MI', 'SC', '-1',\n",
       "       'ce', 'da', 'IA', 'ia', 'el', 'NC', 'AL', 'en', '61', 'WV', 'HI',\n",
       "       'in', 'NM'], dtype=object)"
      ]
     },
     "execution_count": 26,
     "metadata": {},
     "output_type": "execute_result"
    }
   ],
   "source": [
    "df['Headquarters'].str[-2:].unique()"
   ]
  },
  {
   "cell_type": "code",
   "execution_count": 27,
   "id": "34b02684",
   "metadata": {},
   "outputs": [],
   "source": [
    "# Define a custom function to replace 'Headquarters' values with 'Location' values in the same row.\n",
    "\n",
    "def replace_headquarters(row):\n",
    "    if row['Headquarters'] == '-1':\n",
    "        return row['Location']\n",
    "    else:\n",
    "        return row['Headquarters']\n",
    "\n",
    "df['Headquarters'] = df.apply(replace_headquarters, axis=1)"
   ]
  },
  {
   "cell_type": "code",
   "execution_count": 28,
   "id": "410aa773",
   "metadata": {},
   "outputs": [],
   "source": [
    "df['Size'] = df['Size'].replace('-1','Unknown')"
   ]
  },
  {
   "cell_type": "code",
   "execution_count": 29,
   "id": "f628e0e6",
   "metadata": {},
   "outputs": [],
   "source": [
    "df['Founded'] = df['Founded'].replace(-1,'Unknown')"
   ]
  },
  {
   "cell_type": "code",
   "execution_count": 30,
   "id": "904c009f",
   "metadata": {},
   "outputs": [],
   "source": [
    "df['Type of ownership'] = df['Type of ownership'].replace('-1','Unknown')"
   ]
  },
  {
   "cell_type": "code",
   "execution_count": 31,
   "id": "2eaca4e9",
   "metadata": {},
   "outputs": [],
   "source": [
    "df['Industry'] = df['Industry'].replace('-1','Unknown')"
   ]
  },
  {
   "cell_type": "code",
   "execution_count": 32,
   "id": "c161c9f0",
   "metadata": {},
   "outputs": [],
   "source": [
    "df['Sector'] = df['Sector'].replace('-1','Unknown')"
   ]
  },
  {
   "cell_type": "code",
   "execution_count": 33,
   "id": "b9ea850c",
   "metadata": {},
   "outputs": [],
   "source": [
    "df['Revenue'] = df['Revenue'].replace('-1','Unknown / Non-Applicable')"
   ]
  },
  {
   "cell_type": "code",
   "execution_count": 34,
   "id": "a2a064e4",
   "metadata": {},
   "outputs": [],
   "source": [
    "df['Competitors'] = df['Competitors'].replace('-1','Unknown')"
   ]
  },
  {
   "cell_type": "markdown",
   "id": "9749bbf4",
   "metadata": {},
   "source": [
    "# Feature Engineering:"
   ]
  },
  {
   "cell_type": "code",
   "execution_count": 35,
   "id": "b12671b0",
   "metadata": {
    "scrolled": true
   },
   "outputs": [],
   "source": [
    "# Creating two new series which will contain the min and max salary ranges.\n",
    "\n",
    "df[['Min_Salary_In_Thousand_Dollars','Max_Salary_In_Thousand_Dollars']] = df['Salary Range'].str.split('-',expand = True)"
   ]
  },
  {
   "cell_type": "code",
   "execution_count": 36,
   "id": "0e6766ce",
   "metadata": {
    "scrolled": true
   },
   "outputs": [
    {
     "data": {
      "text/plain": [
       "0    $137K\n",
       "1    $137K\n",
       "2    $137K\n",
       "3    $137K\n",
       "4    $137K\n",
       "Name: Min_Salary_In_Thousand_Dollars, dtype: object"
      ]
     },
     "execution_count": 36,
     "metadata": {},
     "output_type": "execute_result"
    }
   ],
   "source": [
    "df['Min_Salary_In_Thousand_Dollars'].head()"
   ]
  },
  {
   "cell_type": "code",
   "execution_count": 37,
   "id": "639a7a5e",
   "metadata": {
    "scrolled": true
   },
   "outputs": [],
   "source": [
    "# Removing extraneous characters from the min salary series.\n",
    "\n",
    "df['Min_Salary_In_Thousand_Dollars'] = df['Min_Salary_In_Thousand_Dollars'].str.replace('$','',regex = True).str.replace('K','', regex = True)"
   ]
  },
  {
   "cell_type": "code",
   "execution_count": 38,
   "id": "eafb4728",
   "metadata": {},
   "outputs": [],
   "source": [
    "# Changing the dtype of min salary series from object to int.\n",
    "\n",
    "df['Min_Salary_In_Thousand_Dollars'] = df['Min_Salary_In_Thousand_Dollars'].astype(int)"
   ]
  },
  {
   "cell_type": "code",
   "execution_count": 39,
   "id": "f5770d82",
   "metadata": {},
   "outputs": [
    {
     "data": {
      "text/plain": [
       "0    137\n",
       "1    137\n",
       "2    137\n",
       "3    137\n",
       "4    137\n",
       "Name: Min_Salary_In_Thousand_Dollars, dtype: int32"
      ]
     },
     "execution_count": 39,
     "metadata": {},
     "output_type": "execute_result"
    }
   ],
   "source": [
    "df['Min_Salary_In_Thousand_Dollars'].head()"
   ]
  },
  {
   "cell_type": "code",
   "execution_count": 40,
   "id": "f2c387c9",
   "metadata": {
    "scrolled": false
   },
   "outputs": [
    {
     "data": {
      "text/plain": [
       "0    $171K\n",
       "1    $171K\n",
       "2    $171K\n",
       "3    $171K\n",
       "4    $171K\n",
       "Name: Max_Salary_In_Thousand_Dollars, dtype: object"
      ]
     },
     "execution_count": 40,
     "metadata": {},
     "output_type": "execute_result"
    }
   ],
   "source": [
    "df['Max_Salary_In_Thousand_Dollars'].head()"
   ]
  },
  {
   "cell_type": "code",
   "execution_count": 41,
   "id": "e91de645",
   "metadata": {
    "scrolled": false
   },
   "outputs": [],
   "source": [
    "# Removing extraneous characters from the max salary series.\n",
    "\n",
    "df['Max_Salary_In_Thousand_Dollars'] = df['Max_Salary_In_Thousand_Dollars'].str.replace('$','',regex = True).str.replace('K','', regex = True)"
   ]
  },
  {
   "cell_type": "code",
   "execution_count": 42,
   "id": "0cd55ef6",
   "metadata": {},
   "outputs": [],
   "source": [
    "# Changing the dtype of max salary series from object to int.\n",
    "\n",
    "df['Max_Salary_In_Thousand_Dollars'] = df['Max_Salary_In_Thousand_Dollars'].astype(int)"
   ]
  },
  {
   "cell_type": "code",
   "execution_count": 43,
   "id": "00595b7b",
   "metadata": {
    "scrolled": true
   },
   "outputs": [
    {
     "data": {
      "text/plain": [
       "0    171\n",
       "1    171\n",
       "2    171\n",
       "3    171\n",
       "4    171\n",
       "Name: Max_Salary_In_Thousand_Dollars, dtype: int32"
      ]
     },
     "execution_count": 43,
     "metadata": {},
     "output_type": "execute_result"
    }
   ],
   "source": [
    "df['Max_Salary_In_Thousand_Dollars'].head()"
   ]
  },
  {
   "cell_type": "code",
   "execution_count": 44,
   "id": "ba34ceae",
   "metadata": {
    "scrolled": true
   },
   "outputs": [],
   "source": [
    "# Creating an average salary series by using the values in the min and max salary series.\n",
    "\n",
    "df['Average_Salary_In_Thousand_Dollars'] = (df['Min_Salary_In_Thousand_Dollars'] + df['Max_Salary_In_Thousand_Dollars'])/2"
   ]
  },
  {
   "cell_type": "code",
   "execution_count": 45,
   "id": "cf08391f",
   "metadata": {
    "scrolled": false
   },
   "outputs": [
    {
     "data": {
      "text/plain": [
       "0    154\n",
       "1    154\n",
       "2    154\n",
       "3    154\n",
       "4    154\n",
       "Name: Average_Salary_In_Thousand_Dollars, dtype: int32"
      ]
     },
     "execution_count": 45,
     "metadata": {},
     "output_type": "execute_result"
    }
   ],
   "source": [
    "df['Average_Salary_In_Thousand_Dollars'] = df['Average_Salary_In_Thousand_Dollars'].astype(int)\n",
    "\n",
    "df['Average_Salary_In_Thousand_Dollars'].head()"
   ]
  },
  {
   "cell_type": "code",
   "execution_count": 46,
   "id": "dbe93884",
   "metadata": {
    "scrolled": true
   },
   "outputs": [],
   "source": [
    "# Creating a custom function to calculate the age of the companies.\n",
    "\n",
    "from datetime import date\n",
    "\n",
    "def year_diff(founded_year):\n",
    "    if founded_year == 'Unknown':\n",
    "        return 'Unknown'\n",
    "    else:\n",
    "        return date.today().year - founded_year\n",
    "    \n",
    "df['Company age'] = df['Founded'].apply(year_diff)"
   ]
  },
  {
   "cell_type": "code",
   "execution_count": 47,
   "id": "52c752cd",
   "metadata": {
    "scrolled": false
   },
   "outputs": [
    {
     "data": {
      "text/plain": [
       "0    30\n",
       "1    55\n",
       "2    42\n",
       "3    23\n",
       "4    25\n",
       "Name: Company age, dtype: object"
      ]
     },
     "execution_count": 47,
     "metadata": {},
     "output_type": "execute_result"
    }
   ],
   "source": [
    "df['Company age'].head()"
   ]
  },
  {
   "cell_type": "code",
   "execution_count": 48,
   "id": "38bf2c7d",
   "metadata": {},
   "outputs": [],
   "source": [
    "# Mapping Job Titles with the relevant Job Categories.\n",
    "\n",
    "category_mapping = {\n",
    "    'Business Intelligence Analyst': 'BI Analyst',\n",
    "    'Analyst': 'Data Analyst',\n",
    "    'Scientist': 'Data Scientist',\n",
    "    'Machine Learning': 'ML Engineer',\n",
    "    'Data Engineer': 'Data Engineer'\n",
    "}\n",
    "\n",
    "# Creating a custom function to create a Job Category series.\n",
    "\n",
    "def categorize_job_title(job_title):\n",
    "    for keyword, category in category_mapping.items():\n",
    "        if keyword.lower() in job_title.lower():\n",
    "            return category\n",
    "    return 'Other'\n",
    "\n",
    "df['Job Category'] = df['Job Title'].apply(categorize_job_title)"
   ]
  },
  {
   "cell_type": "markdown",
   "id": "4d5615b6",
   "metadata": {},
   "source": [
    "# Data Exploration:"
   ]
  },
  {
   "cell_type": "code",
   "execution_count": 49,
   "id": "4c4016d1",
   "metadata": {
    "scrolled": true
   },
   "outputs": [
    {
     "data": {
      "text/plain": [
       "Job Category\n",
       "Data Scientist    101\n",
       "Data Analyst       27\n",
       "Other              22\n",
       "Data Engineer      15\n",
       "ML Engineer         4\n",
       "BI Analyst          3\n",
       "Name: Job Title, dtype: int64"
      ]
     },
     "execution_count": 49,
     "metadata": {},
     "output_type": "execute_result"
    }
   ],
   "source": [
    "df.groupby(['Job Category'])['Job Title'].nunique().sort_values(ascending = False)"
   ]
  },
  {
   "cell_type": "code",
   "execution_count": 50,
   "id": "4890d100",
   "metadata": {},
   "outputs": [
    {
     "data": {
      "image/png": "[encoded data removed]",
      "text/plain": [
       "<Figure size 720x360 with 1 Axes>"
      ]
     },
     "metadata": {
      "needs_background": "light"
     },
     "output_type": "display_data"
    }
   ],
   "source": [
    "Job_description_count = df.groupby(['Job Category'])['Job Title'].nunique().sort_values(ascending = False)\n",
    "\n",
    "custom_colors = ['#191970','#8B0000','#800080','#228B22','#708090','#36454F']\n",
    "\n",
    "plt.figure(figsize=(10, 5))\n",
    "plt.bar(Job_description_count.index, Job_description_count.values, color = custom_colors)\n",
    "plt.xlabel('Job Category')\n",
    "plt.ylabel('Job Titles count')\n",
    "plt.title('Unique Jobs Titles Count per Job Category')\n",
    "plt.show()"
   ]
  },
  {
   "cell_type": "code",
   "execution_count": 51,
   "id": "f7f732b5",
   "metadata": {
    "scrolled": true
   },
   "outputs": [
    {
     "data": {
      "text/plain": [
       "Index(['Job Title', 'Salary Estimate', 'Job Description', 'Rating',\n",
       "       'Company Name', 'Location', 'Headquarters', 'Size', 'Founded',\n",
       "       'Type of ownership', 'Industry', 'Sector', 'Revenue', 'Competitors',\n",
       "       'Salary Range', 'City', 'State', 'Min_Salary_In_Thousand_Dollars',\n",
       "       'Max_Salary_In_Thousand_Dollars', 'Average_Salary_In_Thousand_Dollars',\n",
       "       'Company age', 'Job Category'],\n",
       "      dtype='object')"
      ]
     },
     "execution_count": 51,
     "metadata": {},
     "output_type": "execute_result"
    }
   ],
   "source": [
    "df.columns"
   ]
  },
  {
   "cell_type": "code",
   "execution_count": 52,
   "id": "c0510645",
   "metadata": {},
   "outputs": [],
   "source": [
    "new_column_order = ['Job Title','Job Category','Salary Estimate','Salary Range','Min_Salary_In_Thousand_Dollars',\n",
    "                    'Max_Salary_In_Thousand_Dollars','Average_Salary_In_Thousand_Dollars','Rating','Company Name',\n",
    "                    'Location','City','State','Headquarters','Size','Founded','Company age','Type of ownership',\n",
    "                    'Industry','Sector','Revenue','Competitors','Job Description']"
   ]
  },
  {
   "cell_type": "code",
   "execution_count": 53,
   "id": "f5b21992",
   "metadata": {},
   "outputs": [],
   "source": [
    "df = df[new_column_order]"
   ]
  },
  {
   "cell_type": "code",
   "execution_count": 54,
   "id": "a02cbaab",
   "metadata": {
    "scrolled": false
   },
   "outputs": [
    {
     "data": {
      "text/plain": [
       "San Francisco    43\n",
       "New York         42\n",
       "Washington       26\n",
       "Chicago          19\n",
       "Herndon          17\n",
       "Name: City, dtype: int64"
      ]
     },
     "execution_count": 54,
     "metadata": {},
     "output_type": "execute_result"
    }
   ],
   "source": [
    "#Top 5 cities with most number of data scientist jobs on Glassdoor\n",
    "\n",
    "df.loc[df['Job Category'] == 'Data Scientist']['City'].value_counts().head(5)"
   ]
  },
  {
   "cell_type": "code",
   "execution_count": 55,
   "id": "1d5c7efc",
   "metadata": {},
   "outputs": [
    {
     "data": {
      "image/png": "[encoded data removed]",
      "text/plain": [
       "<Figure size 720x360 with 1 Axes>"
      ]
     },
     "metadata": {
      "needs_background": "light"
     },
     "output_type": "display_data"
    }
   ],
   "source": [
    "top_5_ds_cities = df.loc[df['Job Category'] == 'Data Scientist']['City'].value_counts().head(5)\n",
    "\n",
    "custom_colors = ['#191970','#8B0000','#800080','#228B22','#708090','#36454F']\n",
    "\n",
    "plt.figure(figsize=(10, 5))\n",
    "plt.bar(top_5_ds_cities.index, top_5_ds_cities.values, color = custom_colors)\n",
    "plt.xlabel('Cities')\n",
    "plt.ylabel('Job posts count')\n",
    "plt.title('Top 5 Data Scientist Job posting cities')\n",
    "plt.show()"
   ]
  },
  {
   "cell_type": "code",
   "execution_count": 56,
   "id": "807a5f60",
   "metadata": {
    "scrolled": false
   },
   "outputs": [
    {
     "data": {
      "text/plain": [
       "San Francisco    8\n",
       "Carson           3\n",
       "Cedar Rapids     3\n",
       "Fort Worth       2\n",
       "Tulsa            2\n",
       "Name: City, dtype: int64"
      ]
     },
     "execution_count": 56,
     "metadata": {},
     "output_type": "execute_result"
    }
   ],
   "source": [
    "#Top 5 cities with most number of data analyst jobs on Glassdoor\n",
    "\n",
    "df.loc[df['Job Category'] == 'Data Analyst']['City'].value_counts().head(5)"
   ]
  },
  {
   "cell_type": "code",
   "execution_count": 57,
   "id": "6d162d48",
   "metadata": {
    "scrolled": false
   },
   "outputs": [
    {
     "data": {
      "image/png": "[encoded data removed]",
      "text/plain": [
       "<Figure size 720x360 with 1 Axes>"
      ]
     },
     "metadata": {
      "needs_background": "light"
     },
     "output_type": "display_data"
    }
   ],
   "source": [
    "top_5_da_cities = df.loc[df['Job Category'] == 'Data Analyst']['City'].value_counts().head(5)\n",
    "\n",
    "custom_colors = ['#191970','#8B0000','#800080','#228B22','#708090','#36454F']\n",
    "\n",
    "plt.figure(figsize=(10, 5))\n",
    "plt.bar(top_5_da_cities.index, top_5_da_cities.values, color = custom_colors)\n",
    "plt.xlabel('Cities')\n",
    "plt.ylabel('Job posts count')\n",
    "plt.title('Top 5 Data Analyst Job posting cities')\n",
    "plt.show()"
   ]
  },
  {
   "cell_type": "code",
   "execution_count": 58,
   "id": "c338a0d6",
   "metadata": {
    "scrolled": true
   },
   "outputs": [
    {
     "data": {
      "text/plain": [
       "Biotech & Pharmaceuticals       59\n",
       "IT Services                     53\n",
       "Aerospace & Defense             39\n",
       "Computer Hardware & Software    38\n",
       "Staffing & Outsourcing          35\n",
       "Name: Industry, dtype: int64"
      ]
     },
     "execution_count": 58,
     "metadata": {},
     "output_type": "execute_result"
    }
   ],
   "source": [
    "#Top 5 Industries with most number of data scientist job posts on Glassdoor\n",
    "\n",
    "df.loc[(df['Job Category'] == 'Data Scientist') & (df['Industry'] != 'Unknown')]['Industry'].value_counts().head(5)"
   ]
  },
  {
   "cell_type": "code",
   "execution_count": 59,
   "id": "baedcc6e",
   "metadata": {
    "scrolled": false
   },
   "outputs": [
    {
     "data": {
      "image/png": "[encoded data removed]",
      "text/plain": [
       "<Figure size 1080x360 with 1 Axes>"
      ]
     },
     "metadata": {
      "needs_background": "light"
     },
     "output_type": "display_data"
    }
   ],
   "source": [
    "top_5_ds_industry = df.loc[(df['Job Category'] == 'Data Scientist') & (df['Industry'] != 'Unknown')]['Industry'].value_counts().head(5)\n",
    "\n",
    "custom_colors = ['#191970','#8B0000','#800080','#228B22','#708090','#36454F']\n",
    "\n",
    "plt.figure(figsize=(15, 5))\n",
    "plt.bar(top_5_ds_industry.index, top_5_ds_industry.values, color = custom_colors)\n",
    "plt.xlabel('Industry')\n",
    "plt.ylabel('Job posts count')\n",
    "plt.title('Top 5 Data Scientist Job posting Industries')\n",
    "plt.show()"
   ]
  },
  {
   "cell_type": "code",
   "execution_count": 60,
   "id": "62196a9d",
   "metadata": {
    "scrolled": false
   },
   "outputs": [
    {
     "data": {
      "text/plain": [
       "Internet                                   6\n",
       "Lending                                    5\n",
       "Enterprise Software & Network Solutions    4\n",
       "Health Care Services & Hospitals           4\n",
       "Investment Banking & Asset Management      4\n",
       "Name: Industry, dtype: int64"
      ]
     },
     "execution_count": 60,
     "metadata": {},
     "output_type": "execute_result"
    }
   ],
   "source": [
    "#Top 5 Industries with most number of data analyst job posts on Glassdoor\n",
    "\n",
    "df.loc[(df['Job Category'] == 'Data Analyst') & (df['Industry'] != 'Unknown')]['Industry'].value_counts().head(5)"
   ]
  },
  {
   "cell_type": "code",
   "execution_count": 61,
   "id": "156e3f3c",
   "metadata": {
    "scrolled": true
   },
   "outputs": [
    {
     "data": {
      "image/png": "[encoded data removed]",
      "text/plain": [
       "<Figure size 1440x360 with 1 Axes>"
      ]
     },
     "metadata": {
      "needs_background": "light"
     },
     "output_type": "display_data"
    }
   ],
   "source": [
    "top_5_da_industry = df.loc[(df['Job Category'] == 'Data Analyst') & (df['Industry'] != 'Unknown')]['Industry'].value_counts().head(5)\n",
    "\n",
    "custom_colors = ['#191970','#8B0000','#800080','#228B22','#708090','#36454F']\n",
    "\n",
    "plt.figure(figsize=(20, 5))\n",
    "plt.bar(top_5_da_industry.index, top_5_da_industry.values, color = custom_colors)\n",
    "plt.xlabel('Industry')\n",
    "plt.ylabel('Job posts count')\n",
    "plt.title('Top 5 Data Analyst Job posting Industries')\n",
    "plt.show()"
   ]
  },
  {
   "cell_type": "code",
   "execution_count": 62,
   "id": "e870946e",
   "metadata": {
    "scrolled": true
   },
   "outputs": [
    {
     "data": {
      "text/plain": [
       "Information Technology       140\n",
       "Business Services             98\n",
       "Biotech & Pharmaceuticals     59\n",
       "Aerospace & Defense           39\n",
       "Insurance                     17\n",
       "Name: Sector, dtype: int64"
      ]
     },
     "execution_count": 62,
     "metadata": {},
     "output_type": "execute_result"
    }
   ],
   "source": [
    "#Top 5 Sectors with most number of data scientist job posts on Glassdoor\n",
    "\n",
    "df[(df['Job Category'] == 'Data Scientist')&(df['Sector'] != 'Unknown')]['Sector'].value_counts().head(5)"
   ]
  },
  {
   "cell_type": "code",
   "execution_count": 63,
   "id": "a9f97d9f",
   "metadata": {
    "scrolled": false
   },
   "outputs": [
    {
     "data": {
      "image/png": "[encoded data removed]",
      "text/plain": [
       "<Figure size 1080x360 with 1 Axes>"
      ]
     },
     "metadata": {
      "needs_background": "light"
     },
     "output_type": "display_data"
    }
   ],
   "source": [
    "top_5_ds_sector = df[(df['Job Category'] == 'Data Scientist')&(df['Sector'] != 'Unknown')]['Sector'].value_counts().head(5)\n",
    "\n",
    "plt.figure(figsize=(15, 5))\n",
    "plt.bar(top_5_ds_sector.index, top_5_ds_sector.values, color = custom_colors)\n",
    "plt.xlabel('Sector')\n",
    "plt.ylabel('Job posts count')\n",
    "plt.title('Top 5 Data Scientist Job posting Sectors')\n",
    "plt.show()"
   ]
  },
  {
   "cell_type": "code",
   "execution_count": 64,
   "id": "65222bc7",
   "metadata": {
    "scrolled": true
   },
   "outputs": [
    {
     "data": {
      "text/plain": [
       "Information Technology    14\n",
       "Finance                   12\n",
       "Business Services          7\n",
       "Insurance                  4\n",
       "Manufacturing              4\n",
       "Name: Sector, dtype: int64"
      ]
     },
     "execution_count": 64,
     "metadata": {},
     "output_type": "execute_result"
    }
   ],
   "source": [
    "#Top 5 Sectors with most number of data analyst job posts on Glassdoor\n",
    "\n",
    "df[(df['Job Category'] == 'Data Analyst')&(df['Sector'] != 'Unknown')]['Sector'].value_counts().head(5)"
   ]
  },
  {
   "cell_type": "code",
   "execution_count": 65,
   "id": "e31855f0",
   "metadata": {},
   "outputs": [
    {
     "data": {
      "image/png": "[encoded data removed]",
      "text/plain": [
       "<Figure size 1080x360 with 1 Axes>"
      ]
     },
     "metadata": {
      "needs_background": "light"
     },
     "output_type": "display_data"
    }
   ],
   "source": [
    "top_5_da_sector = df[(df['Job Category'] == 'Data Analyst')&(df['Sector'] != 'Unknown')]['Sector'].value_counts().head(5)\n",
    "\n",
    "plt.figure(figsize=(15, 5))\n",
    "plt.bar(top_5_da_sector.index, top_5_da_sector.values, color = custom_colors)\n",
    "plt.xlabel('Sector')\n",
    "plt.ylabel('Job posts count')\n",
    "plt.title('Top 5 Data Analyst Job posting Sectors')\n",
    "plt.show()"
   ]
  },
  {
   "cell_type": "code",
   "execution_count": 66,
   "id": "eb54b7d2",
   "metadata": {},
   "outputs": [
    {
     "data": {
      "image/png": "[encoded data removed]",
      "text/plain": [
       "<Figure size 432x288 with 1 Axes>"
      ]
     },
     "metadata": {
      "needs_background": "light"
     },
     "output_type": "display_data"
    }
   ],
   "source": [
    "# Checking whether the average salary data for data scientist jobs is normally distributed.\n",
    "\n",
    "avg_salary_data = df.loc[df['Job Category'] == 'Data Scientist']['Average_Salary_In_Thousand_Dollars']\n",
    "\n",
    "plt.hist(avg_salary_data, bins=5, color='skyblue', edgecolor='black')  # 'bins' sets the number of bins or intervals\n",
    "\n",
    "plt.xlabel('Average_Salary_In_Thousand_Dollars')\n",
    "plt.ylabel('Frequency')\n",
    "plt.title('Distribution of Average_Salary_In_Thousand_Dollars')\n",
    "\n",
    "plt.grid(False)\n",
    "plt.show()"
   ]
  },
  {
   "cell_type": "code",
   "execution_count": 67,
   "id": "cbbfe074",
   "metadata": {
    "scrolled": false
   },
   "outputs": [
    {
     "data": {
      "image/png": "[encoded data removed]",
      "text/plain": [
       "<Figure size 576x432 with 1 Axes>"
      ]
     },
     "metadata": {
      "needs_background": "light"
     },
     "output_type": "display_data"
    }
   ],
   "source": [
    "# Checking for outliers in the average salary data for data scientist jobs.\n",
    "\n",
    "data = df.loc[df['Job Category'] == 'Data Scientist']['Average_Salary_In_Thousand_Dollars']\n",
    "\n",
    "plt.figure(figsize=(8, 6))\n",
    "plt.boxplot(data, vert=True, labels=['Data'])\n",
    "\n",
    "plt.xlabel('Values')\n",
    "plt.title('Box Plot')\n",
    "\n",
    "plt.grid(True)  # Add grid lines (optional)\n",
    "plt.show()"
   ]
  },
  {
   "cell_type": "code",
   "execution_count": 68,
   "id": "b8fa6c13",
   "metadata": {},
   "outputs": [
    {
     "name": "stdout",
     "output_type": "stream",
     "text": [
      "Outliers: {185, 43, 271}\n"
     ]
    }
   ],
   "source": [
    "# Finding the outliers values from the average salary data for data scientist jobs.\n",
    "\n",
    "data = df.loc[df['Job Category'] == 'Data Scientist']['Average_Salary_In_Thousand_Dollars']\n",
    "\n",
    "# Calculate quartiles\n",
    "q1, q3 = np.percentile(data, [25, 75])\n",
    "\n",
    "# Calculate IQR\n",
    "iqr = q3 - q1\n",
    "\n",
    "# Define lower and upper bounds for outliers\n",
    "lower_bound = q1 - 1.5 * iqr\n",
    "upper_bound = q3 + 1.5 * iqr\n",
    "\n",
    "# Find outliers\n",
    "outliers = [x for x in data if x < lower_bound or x > upper_bound]\n",
    "\n",
    "outliers = set(outliers)\n",
    "\n",
    "print(\"Outliers:\", outliers)"
   ]
  },
  {
   "cell_type": "code",
   "execution_count": 69,
   "id": "287f1449",
   "metadata": {},
   "outputs": [
    {
     "data": {
      "text/plain": [
       "Job Category\n",
       "Data Scientist    125.729249\n",
       "Other             120.483871\n",
       "Data Analyst      117.627451\n",
       "ML Engineer       116.052632\n",
       "Data Engineer     113.869565\n",
       "BI Analyst        106.833333\n",
       "Name: Average_Salary_In_Thousand_Dollars, dtype: float64"
      ]
     },
     "execution_count": 69,
     "metadata": {},
     "output_type": "execute_result"
    }
   ],
   "source": [
    "# Average Salary in Thousand Dollars per Job Category.\n",
    "\n",
    "df.groupby('Job Category')['Average_Salary_In_Thousand_Dollars'].mean().sort_values(ascending = False)"
   ]
  },
  {
   "cell_type": "code",
   "execution_count": 70,
   "id": "37cf4928",
   "metadata": {
    "scrolled": true
   },
   "outputs": [
    {
     "data": {
      "image/png": "[encoded data removed]",
      "text/plain": [
       "<Figure size 1080x360 with 1 Axes>"
      ]
     },
     "metadata": {
      "needs_background": "light"
     },
     "output_type": "display_data"
    }
   ],
   "source": [
    "avg_salary_per_job_category = df.groupby('Job Category')['Average_Salary_In_Thousand_Dollars'].mean().sort_values(ascending = False)\n",
    "\n",
    "plt.figure(figsize=(15, 5))\n",
    "plt.bar(avg_salary_per_job_category.index, avg_salary_per_job_category.values, color=custom_colors)\n",
    "plt.xlabel('Job Category')\n",
    "plt.ylabel('Average Salary')\n",
    "plt.title('Average salary in Thousand dollars per Job Category')\n",
    "plt.show()"
   ]
  },
  {
   "cell_type": "code",
   "execution_count": 71,
   "id": "f7cd26cb",
   "metadata": {},
   "outputs": [],
   "source": [
    "rating_df = df.loc[(df['Rating'] != 0), ['Job Category','Rating']]\n",
    "\n",
    "rating_df['Rating'] = rating_df['Rating'].astype(int)"
   ]
  },
  {
   "cell_type": "code",
   "execution_count": 72,
   "id": "25aa6673",
   "metadata": {},
   "outputs": [
    {
     "data": {
      "text/plain": [
       "Job Category\n",
       "ML Engineer       3.6\n",
       "Data Engineer     3.5\n",
       "Data Scientist    3.4\n",
       "Other             3.4\n",
       "Data Analyst      3.2\n",
       "BI Analyst        2.8\n",
       "Name: Rating, dtype: float64"
      ]
     },
     "execution_count": 72,
     "metadata": {},
     "output_type": "execute_result"
    }
   ],
   "source": [
    "# Average Rating per Job Category.\n",
    "\n",
    "rating_df.groupby('Job Category')['Rating'].mean().sort_values(ascending = False).round(1)"
   ]
  },
  {
   "cell_type": "code",
   "execution_count": 73,
   "id": "563f9c42",
   "metadata": {
    "scrolled": true
   },
   "outputs": [
    {
     "data": {
      "text/plain": [
       "Job Category\n",
       "Data Engineer     4.0\n",
       "ML Engineer       3.5\n",
       "BI Analyst        3.0\n",
       "Data Analyst      3.0\n",
       "Data Scientist    3.0\n",
       "Other             3.0\n",
       "Name: Rating, dtype: float64"
      ]
     },
     "execution_count": 73,
     "metadata": {},
     "output_type": "execute_result"
    }
   ],
   "source": [
    "# Median Rating per Job Category.\n",
    "\n",
    "rating_df.groupby('Job Category')['Rating'].median().sort_values(ascending = False).round(1)"
   ]
  },
  {
   "cell_type": "code",
   "execution_count": 74,
   "id": "5fcd8a70",
   "metadata": {},
   "outputs": [],
   "source": [
    "# Creating a custom function to check whether the Job description contains 'SQL' as a skill or not.\n",
    "\n",
    "def contains_sql(job_desc):\n",
    "    if 'sql'.lower() in job_desc.lower():\n",
    "        return 1\n",
    "    else:\n",
    "        return 0\n",
    "    \n",
    "df['SQL'] = df['Job Description'].apply(contains_sql)"
   ]
  },
  {
   "cell_type": "code",
   "execution_count": 75,
   "id": "48762dfe",
   "metadata": {},
   "outputs": [],
   "source": [
    "# Creating a custom function to check whether the Job description contains 'Python' as a skill or not.\n",
    "\n",
    "def contains_python(job_desc):\n",
    "    if 'python'.lower() in job_desc.lower():\n",
    "        return 1\n",
    "    else:\n",
    "        return 0\n",
    "    \n",
    "df['Python'] = df['Job Description'].apply(contains_python)"
   ]
  },
  {
   "cell_type": "code",
   "execution_count": 76,
   "id": "64be8953",
   "metadata": {},
   "outputs": [],
   "source": [
    "# Creating a custom function to check whether the Job description contains 'Data Visualization' as a skill or not.\n",
    "\n",
    "def contains_viz(job_desc):\n",
    "    if 'visualization'.lower() in job_desc.lower():\n",
    "        return 1\n",
    "    else:\n",
    "        return 0\n",
    "    \n",
    "df['Data Visualization'] = df['Job Description'].apply(contains_viz)"
   ]
  },
  {
   "cell_type": "code",
   "execution_count": 77,
   "id": "b1cc2b81",
   "metadata": {},
   "outputs": [],
   "source": [
    "# Creating a custom function to check whether the Job description contains 'Statisitics' as a skill or not.\n",
    "\n",
    "def contains_stats(job_desc):\n",
    "    if 'statistics'.lower() in job_desc.lower():\n",
    "        return 1\n",
    "    else:\n",
    "        return 0\n",
    "    \n",
    "df['Statistics'] = df['Job Description'].apply(contains_stats)"
   ]
  },
  {
   "cell_type": "code",
   "execution_count": 78,
   "id": "48d9f0a5",
   "metadata": {},
   "outputs": [],
   "source": [
    "# Creating a custom function to check whether the Job description contains 'Machine Learning' as a skill or not.\n",
    "\n",
    "def contains_ml(job_desc):\n",
    "    if 'machine learning'.lower() in job_desc.lower():\n",
    "        return 1\n",
    "    else:\n",
    "        return 0\n",
    "    \n",
    "df['Machine Learning'] = df['Job Description'].apply(contains_ml)"
   ]
  },
  {
   "cell_type": "code",
   "execution_count": 79,
   "id": "5ce38581",
   "metadata": {
    "scrolled": true
   },
   "outputs": [
    {
     "data": {
      "text/plain": [
       "Python                380\n",
       "Machine Learning      350\n",
       "Statistics            277\n",
       "SQL                   253\n",
       "Data Visualization    188\n",
       "dtype: int64"
      ]
     },
     "execution_count": 79,
     "metadata": {},
     "output_type": "execute_result"
    }
   ],
   "source": [
    "# In-Demand skills for Data Scientist jobs and the times mentioned in the Job Description.\n",
    "\n",
    "df.loc[(df['Job Category'].isin(['Data Scientist'])),['SQL','Python','Data Visualization','Statistics','Machine Learning']].sum().sort_values(ascending = False)"
   ]
  },
  {
   "cell_type": "code",
   "execution_count": 80,
   "id": "b9860001",
   "metadata": {
    "scrolled": false
   },
   "outputs": [
    {
     "data": {
      "image/png": "[encoded data removed]",
      "text/plain": [
       "<Figure size 720x360 with 1 Axes>"
      ]
     },
     "metadata": {
      "needs_background": "light"
     },
     "output_type": "display_data"
    }
   ],
   "source": [
    "ds_top_skills = df.loc[(df['Job Category'] == 'Data Scientist'),['SQL','Python','Data Visualization','Statistics','Machine Learning']].sum().sort_values(ascending = False)\n",
    "\n",
    "plt.figure(figsize=(10, 5))\n",
    "plt.bar(ds_top_skills.index, ds_top_skills.values, color = custom_colors)\n",
    "plt.xlabel('Skills')\n",
    "plt.ylabel('Times mentioned in Job Desc')\n",
    "plt.title('Most In-Demand skills for Data Scientist Jobs and times mentioned in Job Desc')\n",
    "plt.show()"
   ]
  },
  {
   "cell_type": "code",
   "execution_count": 81,
   "id": "994c2d29",
   "metadata": {},
   "outputs": [
    {
     "data": {
      "text/plain": [
       "SQL                   37\n",
       "Python                28\n",
       "Data Visualization    27\n",
       "Statistics            21\n",
       "Machine Learning       9\n",
       "dtype: int64"
      ]
     },
     "execution_count": 81,
     "metadata": {},
     "output_type": "execute_result"
    }
   ],
   "source": [
    "# In-Demand skills for Data Analyst jobs and the times mentioned in the Job Description.\n",
    "\n",
    "df.loc[(df['Job Category'] == 'Data Analyst'),['SQL','Python','Data Visualization','Statistics','Machine Learning']].sum().sort_values(ascending = False)"
   ]
  },
  {
   "cell_type": "code",
   "execution_count": 82,
   "id": "1962564e",
   "metadata": {
    "scrolled": true
   },
   "outputs": [
    {
     "data": {
      "image/png": "[encoded data removed]",
      "text/plain": [
       "<Figure size 720x360 with 1 Axes>"
      ]
     },
     "metadata": {
      "needs_background": "light"
     },
     "output_type": "display_data"
    }
   ],
   "source": [
    "da_top_skills = df.loc[(df['Job Category'] == 'Data Analyst'),['SQL','Python','Data Visualization','Statistics','Machine Learning']].sum().sort_values(ascending = False)\n",
    "\n",
    "plt.figure(figsize=(10, 5))\n",
    "plt.bar(da_top_skills.index, da_top_skills.values, color = custom_colors)\n",
    "plt.xlabel('Skills')\n",
    "plt.ylabel('Times mentioned in Job Desc')\n",
    "plt.title('Most In-Demand skills for Data Analyst Jobs and times mentioned in Job Desc')\n",
    "plt.show()"
   ]
  },
  {
   "cell_type": "markdown",
   "id": "76abd4c7",
   "metadata": {},
   "source": [
    "# Key Insights:"
   ]
  },
  {
   "cell_type": "markdown",
   "id": "6960a6a5",
   "metadata": {},
   "source": [
    "* There is a high demand for Data Scientist jobs compared to other data-related roles in the market. Approximately 77% of job postings are for Data Scientist positions, with Data Analysts being the second most in-demand role.\n",
    "\n",
    "\n",
    "* The average salary for Data Scientist jobs is significantly higher compared to other data-related roles.\n",
    "\n",
    "\n",
    "* Although the demand and salary for Data Scientist positions are high, the rating is lower than that of ML Engineers and Data Engineers. Users have given higher ratings for ML Engineers and Data Engineers compared to Data Scientist roles.\n",
    "\n",
    "\n",
    "* Python is the most in-demand skill for Data Scientists, with 75% of job descriptions mentioning Python as a must-have skillset, followed by Machine Learning and Statistics.\n",
    "\n",
    "\n",
    "* Approximately 72% of job descriptions list SQL as a must-have skillset for Data Analyst roles, followed by Python and Data Visualization."
   ]
  }
 ],
 "metadata": {
  "kernelspec": {
   "display_name": "Python 3 (ipykernel)",
   "language": "python",
   "name": "python3"
  },
  "language_info": {
   "codemirror_mode": {
    "name": "ipython",
    "version": 3
   },
   "file_extension": ".py",
   "mimetype": "text/x-python",
   "name": "python",
   "nbconvert_exporter": "python",
   "pygments_lexer": "ipython3",
   "version": "3.9.12"
  }
 },
 "nbformat": 4,
 "nbformat_minor": 5
}
